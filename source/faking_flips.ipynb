{
 "cells": [
  {
   "cell_type": "markdown",
   "metadata": {},
   "source": [
    "Import necessary modules"
   ]
  },
  {
   "cell_type": "code",
   "execution_count": 1,
   "metadata": {},
   "outputs": [],
   "source": [
    "import numpy as np\n",
    "import matplotlib.pyplot as plt\n",
    "\n",
    "from scipy import stats\n",
    "from itertools import groupby\n",
    "from statsmodels.distributions.empirical_distribution import ECDF"
   ]
  },
  {
   "cell_type": "markdown",
   "metadata": {},
   "source": [
    "Set numbers which will be used<br/>\n",
    "$n$ = number of flips<br/>\n",
    "$k$ = number with which maximum length of run will be compared"
   ]
  },
  {
   "cell_type": "code",
   "execution_count": 2,
   "metadata": {},
   "outputs": [],
   "source": [
    "n = 50\n",
    "k = 12"
   ]
  },
  {
   "cell_type": "markdown",
   "metadata": {},
   "source": [
    "Function to count probabilities of $M_i \\le k$ for $1 \\le i \\le n$"
   ]
  },
  {
   "cell_type": "code",
   "execution_count": 3,
   "metadata": {},
   "outputs": [],
   "source": [
    "def prob(n, k):\n",
    "    m = [2]\n",
    "    m += [1 for _ in range(k)]\n",
    "    m += [0 for _ in range(n - k)]\n",
    "\n",
    "    def recurse(i, k):\n",
    "            if m[i]:\n",
    "                return m[i]\n",
    "            else:\n",
    "                m[i] = recurse(i - 1, k) - recurse(i - k - 1, k)/2**(k + 1)\n",
    "                return m[i]\n",
    "\n",
    "    recurse(n, k)\n",
    "    return m"
   ]
  },
  {
   "cell_type": "markdown",
   "metadata": {},
   "source": [
    "Function to count probabilities of $M_i \\le j$ for $1 \\le i \\le n$ and $1 \\le j \\le k$ using previous function"
   ]
  },
  {
   "cell_type": "code",
   "execution_count": 4,
   "metadata": {},
   "outputs": [],
   "source": [
    "def probs(n, k):\n",
    "    t = [[] for _ in range(n + 1)]\n",
    "    \n",
    "    for i in range(1, k + 1):\n",
    "        m = prob(n, i)\n",
    "        for p in range(n + 1):\n",
    "            t[p].append(m[p])\n",
    "\n",
    "    return t"
   ]
  },
  {
   "cell_type": "markdown",
   "metadata": {},
   "source": [
    "And generate table from result"
   ]
  },
  {
   "cell_type": "code",
   "execution_count": 5,
   "metadata": {},
   "outputs": [],
   "source": [
    "def format_matrix(t, n):\n",
    "    result_matrix = '  n\\\\k' + ''.join(['%10d' % _ for _ in range(1, k + 1)]) + '\\n\\n'\n",
    "    \n",
    "    for row in t:\n",
    "        result_matrix += '  ' \\\n",
    "        + '%3d' % t.index(row) \\\n",
    "        + ''.join([('%10d' % p) if type(p) == int else ('%10.5f' % float(p)) for p in row]) + '\\n'\n",
    "    \n",
    "    return result_matrix\n",
    "    "
   ]
  },
  {
   "cell_type": "code",
   "execution_count": 6,
   "metadata": {
    "scrolled": true
   },
   "outputs": [
    {
     "name": "stdout",
     "output_type": "stream",
     "text": [
      "  n\\k         1         2         3         4         5         6         7         8         9        10        11        12\n",
      "\n",
      "    0         2         2         2         2         2         2         2         2         2         2         2         2\n",
      "    1         1         1         1         1         1         1         1         1         1         1         1         1\n",
      "    2   0.50000         1         1         1         1         1         1         1         1         1         1         1\n",
      "    3   0.25000   0.75000         1         1         1         1         1         1         1         1         1         1\n",
      "    4   0.12500   0.62500   0.87500         1         1         1         1         1         1         1         1         1\n",
      "    5   0.06250   0.50000   0.81250   0.93750         1         1         1         1         1         1         1         1\n",
      "    6   0.03125   0.40625   0.75000   0.90625   0.96875         1         1         1         1         1         1         1\n",
      "    7   0.01562   0.32812   0.68750   0.87500   0.95312   0.98438         1         1         1         1         1         1\n",
      "    8   0.00781   0.26562   0.63281   0.84375   0.93750   0.97656   0.99219         1         1         1         1         1\n",
      "    9   0.00391   0.21484   0.58203   0.81250   0.92188   0.96875   0.98828   0.99609         1         1         1         1\n",
      "   10   0.00195   0.17383   0.53516   0.78320   0.90625   0.96094   0.98438   0.99414   0.99805         1         1         1\n",
      "   11   0.00098   0.14062   0.49219   0.75488   0.89062   0.95312   0.98047   0.99219   0.99707   0.99902         1         1\n",
      "   12   0.00049   0.11377   0.45264   0.72754   0.87549   0.94531   0.97656   0.99023   0.99609   0.99854   0.99951         1\n",
      "   13   0.00024   0.09204   0.41626   0.70117   0.86060   0.93750   0.97266   0.98828   0.99512   0.99805   0.99927   0.99976\n",
      "   14   0.00012   0.07446   0.38281   0.67578   0.84595   0.92981   0.96875   0.98633   0.99414   0.99756   0.99902   0.99963\n",
      "   15   0.00006   0.06024   0.35205   0.65131   0.83154   0.92218   0.96484   0.98438   0.99316   0.99707   0.99878   0.99951\n",
      "   16   0.00003   0.04874   0.32376   0.62772   0.81738   0.91461   0.96097   0.98242   0.99219   0.99658   0.99854   0.99939\n",
      "   17   0.00002   0.03943   0.29774   0.60498   0.80347   0.90710   0.95711   0.98047   0.99121   0.99609   0.99829   0.99927\n",
      "   18   0.00001   0.03190   0.27382   0.58307   0.78979   0.89966   0.95326   0.97852   0.99023   0.99561   0.99805   0.99915\n",
      "   19   0.00000   0.02581   0.25182   0.56195   0.77634   0.89227   0.94943   0.97658   0.98926   0.99512   0.99780   0.99902\n",
      "   20   0.00000   0.02088   0.23158   0.54160   0.76312   0.88495   0.94562   0.97464   0.98828   0.99463   0.99756   0.99890\n",
      "   21   0.00000   0.01689   0.21297   0.52198   0.75013   0.87768   0.94182   0.97271   0.98731   0.99414   0.99731   0.99878\n",
      "   22   0.00000   0.01366   0.19586   0.50308   0.73736   0.87048   0.93803   0.97078   0.98634   0.99365   0.99707   0.99866\n",
      "   23   0.00000   0.01105   0.18012   0.48485   0.72480   0.86333   0.93427   0.96885   0.98536   0.99317   0.99683   0.99854\n",
      "   24   0.00000   0.00894   0.16565   0.46729   0.71246   0.85625   0.93051   0.96693   0.98439   0.99268   0.99658   0.99841\n",
      "   25   0.00000   0.00724   0.15233   0.45037   0.70033   0.84922   0.92677   0.96501   0.98342   0.99219   0.99634   0.99829\n",
      "   26   0.00000   0.00585   0.14009   0.43406   0.68841   0.84225   0.92305   0.96310   0.98246   0.99170   0.99609   0.99817\n",
      "   27   0.00000   0.00474   0.12884   0.41834   0.67669   0.83533   0.91934   0.96119   0.98149   0.99122   0.99585   0.99805\n",
      "   28   0.00000   0.00383   0.11848   0.40318   0.66517   0.82848   0.91565   0.95928   0.98052   0.99073   0.99561   0.99792\n",
      "   29   0.00000   0.00310   0.10896   0.38858   0.65384   0.82168   0.91197   0.95737   0.97955   0.99024   0.99536   0.99780\n",
      "   30   0.00000   0.00251   0.10021   0.37451   0.64271   0.81493   0.90830   0.95547   0.97859   0.98976   0.99512   0.99768\n",
      "   31   0.00000   0.00203   0.09215   0.36094   0.63177   0.80824   0.90465   0.95358   0.97762   0.98927   0.99488   0.99756\n",
      "   32   0.00000   0.00164   0.08475   0.34787   0.62101   0.80161   0.90102   0.95169   0.97666   0.98879   0.99463   0.99744\n",
      "   33   0.00000   0.00133   0.07794   0.33527   0.61044   0.79503   0.89740   0.94980   0.97570   0.98830   0.99439   0.99732\n",
      "   34   0.00000   0.00107   0.07168   0.32313   0.60004   0.78850   0.89379   0.94791   0.97474   0.98782   0.99415   0.99719\n",
      "   35   0.00000   0.00087   0.06592   0.31142   0.58983   0.78203   0.89020   0.94603   0.97378   0.98733   0.99390   0.99707\n",
      "   36   0.00000   0.00070   0.06062   0.30014   0.57979   0.77561   0.88663   0.94415   0.97282   0.98685   0.99366   0.99695\n",
      "   37   0.00000   0.00057   0.05575   0.28927   0.56991   0.76924   0.88306   0.94228   0.97186   0.98636   0.99342   0.99683\n",
      "   38   0.00000   0.00046   0.05127   0.27880   0.56021   0.76293   0.87951   0.94041   0.97090   0.98588   0.99317   0.99671\n",
      "   39   0.00000   0.00037   0.04715   0.26870   0.55067   0.75667   0.87598   0.93854   0.96995   0.98540   0.99293   0.99658\n",
      "   40   0.00000   0.00030   0.04336   0.25897   0.54130   0.75046   0.87246   0.93668   0.96899   0.98491   0.99269   0.99646\n",
      "   41   0.00000   0.00024   0.03988   0.24959   0.53208   0.74430   0.86896   0.93482   0.96804   0.98443   0.99244   0.99634\n",
      "   42   0.00000   0.00020   0.03667   0.24055   0.52302   0.73819   0.86546   0.93297   0.96708   0.98395   0.99220   0.99622\n",
      "   43   0.00000   0.00016   0.03372   0.23183   0.51412   0.73213   0.86199   0.93112   0.96613   0.98346   0.99196   0.99610\n",
      "   44   0.00000   0.00013   0.03101   0.22344   0.50536   0.72612   0.85852   0.92927   0.96518   0.98298   0.99171   0.99597\n",
      "   45   0.00000   0.00010   0.02852   0.21535   0.49676   0.72016   0.85507   0.92743   0.96423   0.98250   0.99147   0.99585\n",
      "   46   0.00000   0.00008   0.02623   0.20755   0.48830   0.71424   0.85164   0.92559   0.96328   0.98202   0.99123   0.99573\n",
      "   47   0.00000   0.00007   0.02412   0.20003   0.47999   0.70838   0.84822   0.92375   0.96233   0.98154   0.99099   0.99561\n",
      "   48   0.00000   0.00006   0.02218   0.19278   0.47182   0.70257   0.84481   0.92192   0.96138   0.98105   0.99074   0.99549\n",
      "   49   0.00000   0.00004   0.02040   0.18580   0.46378   0.69680   0.84141   0.92009   0.96043   0.98057   0.99050   0.99537\n",
      "   50   0.00000   0.00004   0.01876   0.17907   0.45589   0.69108   0.83803   0.91826   0.95949   0.98009   0.99026   0.99524\n",
      "\n"
     ]
    }
   ],
   "source": [
    "result = probs(n, k)\n",
    "print(format_matrix(result, n))"
   ]
  },
  {
   "cell_type": "markdown",
   "metadata": {},
   "source": [
    "Generate sequence with length $n$ taking values from $\\{0, 1\\}$ randomly"
   ]
  },
  {
   "cell_type": "code",
   "execution_count": 7,
   "metadata": {},
   "outputs": [],
   "source": [
    "def generate_sequence(n):\n",
    "    \n",
    "    xk = [0, 1]\n",
    "    pk = (0.5, 0.5)\n",
    "    x_seq = stats.rv_discrete(values=(xk, pk))\n",
    "\n",
    "    return x_seq.rvs(size=n)"
   ]
  },
  {
   "cell_type": "markdown",
   "metadata": {},
   "source": [
    "Count lengths of run and save results as list (of lengths of runs)"
   ]
  },
  {
   "cell_type": "code",
   "execution_count": 8,
   "metadata": {},
   "outputs": [],
   "source": [
    "def simulation(n):\n",
    "\n",
    "    flips = generate_sequence(n)\n",
    "    print('flips\\n', flips)\n",
    "\n",
    "    return [len(list(group)) for key, group in groupby(flips)]\n"
   ]
  },
  {
   "cell_type": "markdown",
   "metadata": {},
   "source": [
    "Function to calculate $pdf$ for received list of runs' lengths"
   ]
  },
  {
   "cell_type": "code",
   "execution_count": 9,
   "metadata": {},
   "outputs": [],
   "source": [
    "def calculate_pdf(runs):\n",
    "    n = len(runs)\n",
    "    return sorted({key: runs.count(key)/n for key in runs}.items())"
   ]
  },
  {
   "cell_type": "markdown",
   "metadata": {},
   "source": [
    "Function to calculate $cdf$ for received list of runs' lengths"
   ]
  },
  {
   "cell_type": "code",
   "execution_count": 10,
   "metadata": {},
   "outputs": [],
   "source": [
    "def calculate_cdf(pdf):\n",
    "    cdf = []\n",
    "    for p in range(len(pdf)):\n",
    "        cdf.append([pdf[p][0], pdf[p][1]])\n",
    "        for i in range(p):\n",
    "            cdf[p][1] += pdf[i][1]\n",
    "    return cdf"
   ]
  },
  {
   "cell_type": "markdown",
   "metadata": {},
   "source": [
    "Run simulation"
   ]
  },
  {
   "cell_type": "code",
   "execution_count": 11,
   "metadata": {
    "scrolled": true
   },
   "outputs": [
    {
     "name": "stdout",
     "output_type": "stream",
     "text": [
      "flips\n",
      " [0 1 0 1 0 1 1 0 1 0 1 1 0 0 1 0 0 1 0 0 0 0 0 0 0 1 1 0 0 0 1 0 0 0 1 1 1\n",
      " 1 0 1 0 1 1 1 0 1 1 0 1 0]\n",
      "runs\n",
      " [1, 1, 1, 1, 1, 2, 1, 1, 1, 2, 2, 1, 2, 1, 7, 2, 3, 1, 3, 4, 1, 1, 1, 3, 1, 2, 1, 1, 1]\n"
     ]
    }
   ],
   "source": [
    "runs = simulation(50)\n",
    "print('runs\\n', runs)"
   ]
  },
  {
   "cell_type": "markdown",
   "metadata": {},
   "source": [
    "Calculate $ecdf$"
   ]
  },
  {
   "cell_type": "code",
   "execution_count": 24,
   "metadata": {},
   "outputs": [
    {
     "name": "stdout",
     "output_type": "stream",
     "text": [
      "-inf: 0.000000\n",
      "1.000000: 0.620690\n",
      "2.000000: 0.827586\n",
      "3.000000: 0.931034\n",
      "4.000000: 0.965517\n",
      "7.000000: 1.000000\n"
     ]
    }
   ],
   "source": [
    "ecdf = ECDF(runs)\n",
    "ecdf_dict = {key: round(value, 6) for key, value in zip(ecdf.x, ecdf.y)}\n",
    "ecdf_for_print = '\\n'.join('%f: %.6f' % (key, ecdf_dict[key]) for key in ecdf_dict)\n",
    "print(ecdf_for_print)"
   ]
  },
  {
   "cell_type": "markdown",
   "metadata": {},
   "source": [
    "and build plot of it"
   ]
  },
  {
   "cell_type": "code",
   "execution_count": 13,
   "metadata": {},
   "outputs": [
    {
     "data": {
      "text/plain": [
       "<matplotlib.legend.Legend at 0x24977e3e160>"
      ]
     },
     "execution_count": 13,
     "metadata": {},
     "output_type": "execute_result"
    },
    {
     "data": {
      "image/png": "[encoded data removed]",
      "text/plain": [
       "<Figure size 432x288 with 1 Axes>"
      ]
     },
     "metadata": {
      "needs_background": "light"
     },
     "output_type": "display_data"
    }
   ],
   "source": [
    "plt.plot(ecdf.x, ecdf.y, '-g', label='ecdf')\n",
    "plt.legend(loc='lower right')"
   ]
  },
  {
   "cell_type": "markdown",
   "metadata": {},
   "source": [
    "Then $pdf$ ..."
   ]
  },
  {
   "cell_type": "code",
   "execution_count": 25,
   "metadata": {},
   "outputs": [
    {
     "name": "stdout",
     "output_type": "stream",
     "text": [
      "1: 0.620690\n",
      "2: 0.206897\n",
      "3: 0.103448\n",
      "4: 0.034483\n",
      "7: 0.034483\n"
     ]
    }
   ],
   "source": [
    "pdf = calculate_pdf(runs)\n",
    "print('\\n'.join(['%d: %.6f' % (p[0], p[1]) for p in pdf]))"
   ]
  },
  {
   "cell_type": "markdown",
   "metadata": {},
   "source": [
    "and $cdf$ ..."
   ]
  },
  {
   "cell_type": "code",
   "execution_count": 26,
   "metadata": {},
   "outputs": [
    {
     "name": "stdout",
     "output_type": "stream",
     "text": [
      "1: 0.620690\n",
      "2: 0.827586\n",
      "3: 0.931034\n",
      "4: 0.965517\n",
      "7: 1.000000\n"
     ]
    }
   ],
   "source": [
    "cdf = calculate_cdf(pdf)\n",
    "print('\\n'.join(['%d: %.6f' % (c[0], c[1]) for c in cdf]))"
   ]
  },
  {
   "cell_type": "markdown",
   "metadata": {},
   "source": [
    "and their plots"
   ]
  },
  {
   "cell_type": "code",
   "execution_count": 16,
   "metadata": {},
   "outputs": [
    {
     "data": {
      "text/plain": [
       "<matplotlib.legend.Legend at 0x24977e7a6a0>"
      ]
     },
     "execution_count": 16,
     "metadata": {},
     "output_type": "execute_result"
    },
    {
     "data": {
      "image/png": "[encoded data removed]",
      "text/plain": [
       "<Figure size 432x288 with 1 Axes>"
      ]
     },
     "metadata": {
      "needs_background": "light"
     },
     "output_type": "display_data"
    }
   ],
   "source": [
    "plt.plot([d[0] for d in pdf], [d[1] for d in pdf], label='pdf')\n",
    "plt.plot([d[0] for d in cdf], [d[1] for d in cdf], label='cdf')\n",
    "plt.legend(loc='right')"
   ]
  }
 ],
 "metadata": {
  "kernelspec": {
   "display_name": "Python 3",
   "language": "python",
   "name": "python3"
  },
  "language_info": {
   "codemirror_mode": {
    "name": "ipython",
    "version": 3
   },
   "file_extension": ".py",
   "mimetype": "text/x-python",
   "name": "python",
   "nbconvert_exporter": "python",
   "pygments_lexer": "ipython3",
   "version": "3.7.0"
  }
 },
 "nbformat": 4,
 "nbformat_minor": 2
}
