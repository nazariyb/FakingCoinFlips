{
 "cells": [
  {
   "cell_type": "markdown",
   "metadata": {},
   "source": [
    "<a id='top'></a>\n",
    "# Faking coin flips \n",
    "## [paper here](https://drive.google.com/uc?export=download&id=1P7iLtvTe8-PBBmAqNHCLbUcfZ_vscBs7)\n",
    "# Content:\n",
    "#    Theoretical counting\n",
    "## 1. [Function to count probabilities of event when maximal length (in sequence from $n$ flips) is less then certain $k$](#prob)\n",
    " ###  - 1.1 [Its helpful functions](#probs)\n",
    " ###  - 1.2 [Result matrix](#matrix)\n",
    "\n",
    "# Simulations\n",
    "## 2. [Function to generate sequence of necessary length](#generate)\n",
    " ###  - 2.1 [Helpful function to count lengths of runs in sequence](#simulation)\n",
    " ###  - 2.2 [Function to count $pmf$](#pmf)\n",
    " ###  - 2.3 [Function to count $cdf$](#cdf)\n",
    "## 3. [Results of $N=100$-times simulation](#100)\n",
    " ###  - 3.1 [Calculate its $ecdf$ using built-in functions](#ecdf_100)\n",
    " ###  - 3.2 [Its plot](#ecdf_plot)\n",
    " ###  - 3.3 [$pmf$ and its plot](#pmf_100)\n",
    " ###  - 3.4 [$cdf$ and its plot](#cdf_100)\n",
    "## 4. [Some more experiments](#additional)\n",
    "## 5. [Simulation with $n=100$ (length of sequence) and $N=10,000$ (experiment repeats) for more accurate results](#final)\n",
    " ###  -5.1 [Its results](#result)\n",
    "## 6. [Small experiment for small $k$ ($1, 2$)](#small_k)"
   ]
  },
  {
   "cell_type": "markdown",
   "metadata": {},
   "source": [
    "Import necessary modules"
   ]
  },
  {
   "cell_type": "code",
   "execution_count": 2,
   "metadata": {},
   "outputs": [],
   "source": [
    "import numpy as np\n",
    "import matplotlib.pyplot as plt\n",
    "\n",
    "from scipy import stats\n",
    "from itertools import groupby\n",
    "from statsmodels.distributions.empirical_distribution import ECDF"
   ]
  },
  {
   "cell_type": "markdown",
   "metadata": {},
   "source": [
    "Set numbers which will be used<br/>\n",
    "$n$ = number of flips<br/>\n",
    "$k$ = number with which maximum length of run will be compared\n",
    "<br/>[go up ↑](#top)"
   ]
  },
  {
   "cell_type": "code",
   "execution_count": 3,
   "metadata": {},
   "outputs": [],
   "source": [
    "n = 100\n",
    "k = 12"
   ]
  },
  {
   "cell_type": "markdown",
   "metadata": {},
   "source": [
    "<a id='prob'></a><br/>\n",
    "## Function to count probabilities of event when maximal length (in sequence from  $n$  flips) is less then certain  $k$.<br/>\n",
    "$P(M_i \\le k$) for $1 \\le i \\le n$\n",
    "<br/>[go up ↑](#top)"
   ]
  },
  {
   "cell_type": "code",
   "execution_count": 4,
   "metadata": {},
   "outputs": [],
   "source": [
    "def prob(n, k):\n",
    "    m = [2]\n",
    "    m += [1 for _ in range(k)]\n",
    "    m += [0 for _ in range(n - k)]\n",
    "\n",
    "    def recurse(i, k):\n",
    "            if m[i]:\n",
    "                return m[i]\n",
    "            else:\n",
    "                m[i] = recurse(i - 1, k) - recurse(i - k - 1, k)/2**(k + 1)\n",
    "                return m[i]\n",
    "\n",
    "    recurse(n, k)\n",
    "    return m"
   ]
  },
  {
   "cell_type": "markdown",
   "metadata": {},
   "source": [
    "<a id='probs'></a><br/>\n",
    "Function to count probabilities of $M_i \\le j$ for $1 \\le i \\le n$ and $1 \\le j \\le k$ using previous function\n",
    "<br/>[go up ↑](#top)"
   ]
  },
  {
   "cell_type": "code",
   "execution_count": 5,
   "metadata": {},
   "outputs": [],
   "source": [
    "def probs(n, k):\n",
    "    t = [[] for _ in range(n + 1)]\n",
    "    \n",
    "    for i in range(1, k + 1):\n",
    "        m = prob(n, i)\n",
    "        for p in range(n + 1):\n",
    "            t[p].append(m[p])\n",
    "\n",
    "    return t"
   ]
  },
  {
   "cell_type": "markdown",
   "metadata": {},
   "source": [
    "And generate table from result\n",
    "<br/>[go up ↑](#top)"
   ]
  },
  {
   "cell_type": "code",
   "execution_count": 6,
   "metadata": {},
   "outputs": [],
   "source": [
    "def format_matrix(t, n):\n",
    "    result_matrix = '  n\\\\k' + ''.join(['%10d' % _ for _ in range(1, k + 1)]) + '\\n\\n'\n",
    "    \n",
    "    for row in t:\n",
    "        result_matrix += '  ' \\\n",
    "        + '%3d' % t.index(row) \\\n",
    "        + ''.join([('%10d' % p) if type(p) == int else ('%10.5f' % float(p)) for p in row]) + '\\n'\n",
    "    \n",
    "    return result_matrix\n",
    "    "
   ]
  },
  {
   "cell_type": "markdown",
   "metadata": {},
   "source": [
    "<a id='matrix'></a><br/>\n",
    "### Result matrix\n",
    "[Skip matrix (click here)](#skip_matrix)\n",
    "<br/>[go up ↑](#top)"
   ]
  },
  {
   "cell_type": "code",
   "execution_count": 7,
   "metadata": {
    "scrolled": false
   },
   "outputs": [
    {
     "name": "stdout",
     "output_type": "stream",
     "text": [
      "  n\\k         1         2         3         4         5         6         7         8         9        10        11        12\n",
      "\n",
      "    0         2         2         2         2         2         2         2         2         2         2         2         2\n",
      "    1         1         1         1         1         1         1         1         1         1         1         1         1\n",
      "    2   0.50000         1         1         1         1         1         1         1         1         1         1         1\n",
      "    3   0.25000   0.75000         1         1         1         1         1         1         1         1         1         1\n",
      "    4   0.12500   0.62500   0.87500         1         1         1         1         1         1         1         1         1\n",
      "    5   0.06250   0.50000   0.81250   0.93750         1         1         1         1         1         1         1         1\n",
      "    6   0.03125   0.40625   0.75000   0.90625   0.96875         1         1         1         1         1         1         1\n",
      "    7   0.01562   0.32812   0.68750   0.87500   0.95312   0.98438         1         1         1         1         1         1\n",
      "    8   0.00781   0.26562   0.63281   0.84375   0.93750   0.97656   0.99219         1         1         1         1         1\n",
      "    9   0.00391   0.21484   0.58203   0.81250   0.92188   0.96875   0.98828   0.99609         1         1         1         1\n",
      "   10   0.00195   0.17383   0.53516   0.78320   0.90625   0.96094   0.98438   0.99414   0.99805         1         1         1\n",
      "   11   0.00098   0.14062   0.49219   0.75488   0.89062   0.95312   0.98047   0.99219   0.99707   0.99902         1         1\n",
      "   12   0.00049   0.11377   0.45264   0.72754   0.87549   0.94531   0.97656   0.99023   0.99609   0.99854   0.99951         1\n",
      "   13   0.00024   0.09204   0.41626   0.70117   0.86060   0.93750   0.97266   0.98828   0.99512   0.99805   0.99927   0.99976\n",
      "   14   0.00012   0.07446   0.38281   0.67578   0.84595   0.92981   0.96875   0.98633   0.99414   0.99756   0.99902   0.99963\n",
      "   15   0.00006   0.06024   0.35205   0.65131   0.83154   0.92218   0.96484   0.98438   0.99316   0.99707   0.99878   0.99951\n",
      "   16   0.00003   0.04874   0.32376   0.62772   0.81738   0.91461   0.96097   0.98242   0.99219   0.99658   0.99854   0.99939\n",
      "   17   0.00002   0.03943   0.29774   0.60498   0.80347   0.90710   0.95711   0.98047   0.99121   0.99609   0.99829   0.99927\n",
      "   18   0.00001   0.03190   0.27382   0.58307   0.78979   0.89966   0.95326   0.97852   0.99023   0.99561   0.99805   0.99915\n",
      "   19   0.00000   0.02581   0.25182   0.56195   0.77634   0.89227   0.94943   0.97658   0.98926   0.99512   0.99780   0.99902\n",
      "   20   0.00000   0.02088   0.23158   0.54160   0.76312   0.88495   0.94562   0.97464   0.98828   0.99463   0.99756   0.99890\n",
      "   21   0.00000   0.01689   0.21297   0.52198   0.75013   0.87768   0.94182   0.97271   0.98731   0.99414   0.99731   0.99878\n",
      "   22   0.00000   0.01366   0.19586   0.50308   0.73736   0.87048   0.93803   0.97078   0.98634   0.99365   0.99707   0.99866\n",
      "   23   0.00000   0.01105   0.18012   0.48485   0.72480   0.86333   0.93427   0.96885   0.98536   0.99317   0.99683   0.99854\n",
      "   24   0.00000   0.00894   0.16565   0.46729   0.71246   0.85625   0.93051   0.96693   0.98439   0.99268   0.99658   0.99841\n",
      "   25   0.00000   0.00724   0.15233   0.45037   0.70033   0.84922   0.92677   0.96501   0.98342   0.99219   0.99634   0.99829\n",
      "   26   0.00000   0.00585   0.14009   0.43406   0.68841   0.84225   0.92305   0.96310   0.98246   0.99170   0.99609   0.99817\n",
      "   27   0.00000   0.00474   0.12884   0.41834   0.67669   0.83533   0.91934   0.96119   0.98149   0.99122   0.99585   0.99805\n",
      "   28   0.00000   0.00383   0.11848   0.40318   0.66517   0.82848   0.91565   0.95928   0.98052   0.99073   0.99561   0.99792\n",
      "   29   0.00000   0.00310   0.10896   0.38858   0.65384   0.82168   0.91197   0.95737   0.97955   0.99024   0.99536   0.99780\n",
      "   30   0.00000   0.00251   0.10021   0.37451   0.64271   0.81493   0.90830   0.95547   0.97859   0.98976   0.99512   0.99768\n",
      "   31   0.00000   0.00203   0.09215   0.36094   0.63177   0.80824   0.90465   0.95358   0.97762   0.98927   0.99488   0.99756\n",
      "   32   0.00000   0.00164   0.08475   0.34787   0.62101   0.80161   0.90102   0.95169   0.97666   0.98879   0.99463   0.99744\n",
      "   33   0.00000   0.00133   0.07794   0.33527   0.61044   0.79503   0.89740   0.94980   0.97570   0.98830   0.99439   0.99732\n",
      "   34   0.00000   0.00107   0.07168   0.32313   0.60004   0.78850   0.89379   0.94791   0.97474   0.98782   0.99415   0.99719\n",
      "   35   0.00000   0.00087   0.06592   0.31142   0.58983   0.78203   0.89020   0.94603   0.97378   0.98733   0.99390   0.99707\n",
      "   36   0.00000   0.00070   0.06062   0.30014   0.57979   0.77561   0.88663   0.94415   0.97282   0.98685   0.99366   0.99695\n",
      "   37   0.00000   0.00057   0.05575   0.28927   0.56991   0.76924   0.88306   0.94228   0.97186   0.98636   0.99342   0.99683\n",
      "   38   0.00000   0.00046   0.05127   0.27880   0.56021   0.76293   0.87951   0.94041   0.97090   0.98588   0.99317   0.99671\n",
      "   39   0.00000   0.00037   0.04715   0.26870   0.55067   0.75667   0.87598   0.93854   0.96995   0.98540   0.99293   0.99658\n",
      "   40   0.00000   0.00030   0.04336   0.25897   0.54130   0.75046   0.87246   0.93668   0.96899   0.98491   0.99269   0.99646\n",
      "   41   0.00000   0.00024   0.03988   0.24959   0.53208   0.74430   0.86896   0.93482   0.96804   0.98443   0.99244   0.99634\n",
      "   42   0.00000   0.00020   0.03667   0.24055   0.52302   0.73819   0.86546   0.93297   0.96708   0.98395   0.99220   0.99622\n",
      "   43   0.00000   0.00016   0.03372   0.23183   0.51412   0.73213   0.86199   0.93112   0.96613   0.98346   0.99196   0.99610\n",
      "   44   0.00000   0.00013   0.03101   0.22344   0.50536   0.72612   0.85852   0.92927   0.96518   0.98298   0.99171   0.99597\n",
      "   45   0.00000   0.00010   0.02852   0.21535   0.49676   0.72016   0.85507   0.92743   0.96423   0.98250   0.99147   0.99585\n",
      "   46   0.00000   0.00008   0.02623   0.20755   0.48830   0.71424   0.85164   0.92559   0.96328   0.98202   0.99123   0.99573\n",
      "   47   0.00000   0.00007   0.02412   0.20003   0.47999   0.70838   0.84822   0.92375   0.96233   0.98154   0.99099   0.99561\n",
      "   48   0.00000   0.00006   0.02218   0.19278   0.47182   0.70257   0.84481   0.92192   0.96138   0.98105   0.99074   0.99549\n",
      "   49   0.00000   0.00004   0.02040   0.18580   0.46378   0.69680   0.84141   0.92009   0.96043   0.98057   0.99050   0.99537\n",
      "   50   0.00000   0.00004   0.01876   0.17907   0.45589   0.69108   0.83803   0.91826   0.95949   0.98009   0.99026   0.99524\n",
      "   51   0.00000   0.00003   0.01725   0.17259   0.44812   0.68541   0.83467   0.91644   0.95854   0.97961   0.99002   0.99512\n",
      "   52   0.00000   0.00002   0.01587   0.16634   0.44049   0.67978   0.83131   0.91462   0.95760   0.97913   0.98977   0.99500\n",
      "   53   0.00000   0.00002   0.01459   0.16031   0.43300   0.67420   0.82797   0.91280   0.95665   0.97865   0.98953   0.99488\n",
      "   54   0.00000   0.00002   0.01342   0.15450   0.42562   0.66867   0.82465   0.91099   0.95571   0.97817   0.98929   0.99476\n",
      "   55   0.00000   0.00001   0.01234   0.14891   0.41838   0.66318   0.82133   0.90919   0.95477   0.97769   0.98905   0.99464\n",
      "   56   0.00000   0.00001   0.01135   0.14352   0.41125   0.65773   0.81803   0.90738   0.95383   0.97721   0.98880   0.99451\n",
      "   57   0.00000   0.00001   0.01044   0.13832   0.40425   0.65234   0.81475   0.90558   0.95289   0.97673   0.98856   0.99439\n",
      "   58   0.00000   0.00001   0.00960   0.13331   0.39737   0.64698   0.81147   0.90378   0.95195   0.97625   0.98832   0.99427\n",
      "   59   0.00000   0.00001   0.00883   0.12848   0.39060   0.64167   0.80821   0.90199   0.95101   0.97577   0.98808   0.99415\n",
      "   60   0.00000   0.00000   0.00812   0.12383   0.38395   0.63640   0.80496   0.90020   0.95007   0.97529   0.98784   0.99403\n",
      "   61   0.00000   0.00000   0.00747   0.11934   0.37742   0.63118   0.80173   0.89841   0.94914   0.97481   0.98760   0.99391\n",
      "   62   0.00000   0.00000   0.00687   0.11502   0.37099   0.62600   0.79851   0.89663   0.94820   0.97434   0.98735   0.99379\n",
      "   63   0.00000   0.00000   0.00631   0.11085   0.36467   0.62086   0.79530   0.89485   0.94727   0.97386   0.98711   0.99366\n",
      "   64   0.00000   0.00000   0.00581   0.10684   0.35846   0.61576   0.79211   0.89308   0.94633   0.97338   0.98687   0.99354\n",
      "   65   0.00000   0.00000   0.00534   0.10297   0.35236   0.61071   0.78892   0.89130   0.94540   0.97290   0.98663   0.99342\n",
      "   66   0.00000   0.00000   0.00491   0.09924   0.34636   0.60570   0.78575   0.88953   0.94447   0.97242   0.98639   0.99330\n",
      "   67   0.00000   0.00000   0.00452   0.09564   0.34046   0.60072   0.78260   0.88777   0.94354   0.97195   0.98615   0.99318\n",
      "   68   0.00000   0.00000   0.00415   0.09218   0.33467   0.59579   0.77945   0.88601   0.94261   0.97147   0.98590   0.99306\n",
      "   69   0.00000   0.00000   0.00382   0.08884   0.32897   0.59090   0.77632   0.88425   0.94168   0.97099   0.98566   0.99294\n",
      "   70   0.00000   0.00000   0.00351   0.08562   0.32337   0.58605   0.77320   0.88249   0.94075   0.97052   0.98542   0.99281\n",
      "   71   0.00000   0.00000   0.00323   0.08252   0.31786   0.58124   0.77009   0.88074   0.93983   0.97004   0.98518   0.99269\n",
      "   72   0.00000   0.00000   0.00297   0.07953   0.31245   0.57647   0.76700   0.87900   0.93890   0.96957   0.98494   0.99257\n",
      "   73   0.00000   0.00000   0.00273   0.07665   0.30713   0.57174   0.76392   0.87725   0.93798   0.96909   0.98470   0.99245\n",
      "   74   0.00000   0.00000   0.00251   0.07388   0.30190   0.56704   0.76085   0.87551   0.93705   0.96861   0.98446   0.99233\n",
      "   75   0.00000   0.00000   0.00231   0.07120   0.29676   0.56239   0.75779   0.87377   0.93613   0.96814   0.98422   0.99221\n",
      "   76   0.00000   0.00000   0.00213   0.06862   0.29171   0.55777   0.75475   0.87204   0.93521   0.96766   0.98397   0.99209\n",
      "   77   0.00000   0.00000   0.00195   0.06614   0.28674   0.55319   0.75171   0.87031   0.93428   0.96719   0.98373   0.99196\n",
      "   78   0.00000   0.00000   0.00180   0.06374   0.28186   0.54865   0.74869   0.86858   0.93336   0.96671   0.98349   0.99184\n",
      "   79   0.00000   0.00000   0.00165   0.06143   0.27706   0.54415   0.74569   0.86686   0.93244   0.96624   0.98325   0.99172\n",
      "   80   0.00000   0.00000   0.00152   0.05921   0.27234   0.53968   0.74269   0.86514   0.93153   0.96577   0.98301   0.99160\n",
      "   81   0.00000   0.00000   0.00140   0.05706   0.26771   0.53525   0.73971   0.86342   0.93061   0.96529   0.98277   0.99148\n",
      "   82   0.00000   0.00000   0.00129   0.05500   0.26315   0.53086   0.73673   0.86171   0.92969   0.96482   0.98253   0.99136\n",
      "   83   0.00000   0.00000   0.00118   0.05300   0.25867   0.52650   0.73377   0.86000   0.92878   0.96434   0.98229   0.99124\n",
      "   84   0.00000   0.00000   0.00109   0.05108   0.25427   0.52218   0.73083   0.85829   0.92786   0.96387   0.98205   0.99112\n",
      "   85   0.00000   0.00000   0.00100   0.04923   0.24994   0.51789   0.72789   0.85659   0.92695   0.96340   0.98181   0.99099\n",
      "   86   0.00000   0.00000   0.00092   0.04745   0.24568   0.51364   0.72496   0.85489   0.92603   0.96293   0.98157   0.99087\n",
      "   87   0.00000   0.00000   0.00085   0.04573   0.24150   0.50943   0.72205   0.85319   0.92512   0.96245   0.98133   0.99075\n",
      "   88   0.00000   0.00000   0.00078   0.04408   0.23739   0.50524   0.71915   0.85150   0.92421   0.96198   0.98109   0.99063\n",
      "   89   0.00000   0.00000   0.00072   0.04248   0.23334   0.50110   0.71626   0.84981   0.92330   0.96151   0.98085   0.99051\n",
      "   90   0.00000   0.00000   0.00066   0.04094   0.22937   0.49698   0.71338   0.84812   0.92239   0.96104   0.98061   0.99039\n",
      "   91   0.00000   0.00000   0.00060   0.03946   0.22547   0.49290   0.71052   0.84644   0.92148   0.96057   0.98037   0.99027\n",
      "   92   0.00000   0.00000   0.00056   0.03803   0.22163   0.48886   0.70766   0.84476   0.92057   0.96009   0.98013   0.99015\n",
      "   93   0.00000   0.00000   0.00051   0.03665   0.21785   0.48485   0.70482   0.84308   0.91967   0.95962   0.97989   0.99003\n",
      "   94   0.00000   0.00000   0.00047   0.03532   0.21415   0.48087   0.70199   0.84141   0.91876   0.95915   0.97965   0.98991\n",
      "   95   0.00000   0.00000   0.00043   0.03404   0.21050   0.47692   0.69917   0.83974   0.91785   0.95868   0.97941   0.98978\n",
      "   96   0.00000   0.00000   0.00040   0.03281   0.20692   0.47300   0.69636   0.83807   0.91695   0.95821   0.97917   0.98966\n",
      "   97   0.00000   0.00000   0.00037   0.03162   0.20339   0.46912   0.69356   0.83641   0.91605   0.95774   0.97893   0.98954\n",
      "   98   0.00000   0.00000   0.00034   0.03048   0.19993   0.46527   0.69077   0.83475   0.91514   0.95727   0.97869   0.98942\n",
      "   99   0.00000   0.00000   0.00031   0.02937   0.19653   0.46145   0.68800   0.83310   0.91424   0.95680   0.97845   0.98930\n",
      "  100   0.00000   0.00000   0.00028   0.02831   0.19318   0.45766   0.68523   0.83144   0.91334   0.95633   0.97821   0.98918\n",
      "\n"
     ]
    }
   ],
   "source": [
    "result = probs(n, k)\n",
    "print(format_matrix(result, n))"
   ]
  },
  {
   "cell_type": "markdown",
   "metadata": {},
   "source": [
    "<a id='skip_matrix'></a><a id='generate'></a><br/>\n",
    "## Function to generate sequence of necessary length\n",
    "Generate sequence with length $n$ taking values from $\\{0, 1\\}$ randomly\n",
    "<br/>[go up ↑](#top)"
   ]
  },
  {
   "cell_type": "code",
   "execution_count": 8,
   "metadata": {},
   "outputs": [],
   "source": [
    "def generate_sequence(n):\n",
    "    \n",
    "    xk = [0, 1]\n",
    "    pk = (0.5, 0.5)\n",
    "    x_seq = stats.rv_discrete(values=(xk, pk))\n",
    "\n",
    "    return x_seq.rvs(size=n)"
   ]
  },
  {
   "cell_type": "markdown",
   "metadata": {},
   "source": [
    "<a id='simulation'></a><br/>\n",
    " ### Helpful function to count lengths of runs in sequence\n",
    "Count lengths of run and save results as list (of lengths of runs)\n",
    "<br/>[go up ↑](#top)"
   ]
  },
  {
   "cell_type": "code",
   "execution_count": 9,
   "metadata": {},
   "outputs": [],
   "source": [
    "def simulation(n):\n",
    "\n",
    "    flips = generate_sequence(n)\n",
    "#     print('flips\\n', flips)\n",
    "\n",
    "    return [len(list(group)) for key, group in groupby(flips)]\n"
   ]
  },
  {
   "cell_type": "markdown",
   "metadata": {},
   "source": [
    "<a id='pmf'></a><br/>\n",
    "### Function to count $pmf$\n",
    "Function to calculate $pmf$ for received list of runs' lengths\n",
    "<br/>[go up ↑](#top)"
   ]
  },
  {
   "cell_type": "code",
   "execution_count": 10,
   "metadata": {},
   "outputs": [],
   "source": [
    "def calculate_pmf(runs):\n",
    "    n = len(runs)\n",
    "    return sorted({key: runs.count(key)/n for key in runs}.items())"
   ]
  },
  {
   "cell_type": "markdown",
   "metadata": {},
   "source": [
    "<a id='cdf'></a><br/>\n",
    "###  Function to count $cdf$\n",
    "Function to calculate $cdf$ for received list of runs' lengths\n",
    "<br/>[go up ↑](#top)"
   ]
  },
  {
   "cell_type": "code",
   "execution_count": 11,
   "metadata": {},
   "outputs": [],
   "source": [
    "def calculate_cdf(pmf):\n",
    "    cdf = []\n",
    "    for p in range(len(pmf)):\n",
    "        cdf.append([pmf[p][0], pmf[p][1]])\n",
    "        for i in range(p):\n",
    "            cdf[p][1] += pmf[i][1]\n",
    "    return cdf"
   ]
  },
  {
   "cell_type": "markdown",
   "metadata": {},
   "source": [
    "<a id='100'></a><br/>\n",
    "## Run simulation\n",
    "$N$ = number of simulations\n",
    "<br/>[go up ↑](#top)"
   ]
  },
  {
   "cell_type": "code",
   "execution_count": 12,
   "metadata": {},
   "outputs": [],
   "source": [
    "N = 100"
   ]
  },
  {
   "cell_type": "code",
   "execution_count": 13,
   "metadata": {
    "scrolled": true
   },
   "outputs": [
    {
     "name": "stdout",
     "output_type": "stream",
     "text": [
      "maximal lengths\n",
      " [8, 6, 9, 11, 5, 8, 6, 6, 5, 6, 6, 9, 9, 5, 8, 9, 8, 6, 6, 6] ...\n"
     ]
    }
   ],
   "source": [
    "maximal_lengths = [max(simulation(n)) for _ in range(N)]\n",
    "print('maximal lengths\\n', maximal_lengths[:20], '...')"
   ]
  },
  {
   "cell_type": "markdown",
   "metadata": {},
   "source": [
    "<a id='ecdf_100'></a><br/>\n",
    "### Calculate its $ecdf$ using built-in functions\n",
    "Calculate $ecdf$\n",
    "<br/>[go up ↑](#top)"
   ]
  },
  {
   "cell_type": "code",
   "execution_count": 14,
   "metadata": {},
   "outputs": [
    {
     "name": "stdout",
     "output_type": "stream",
     "text": [
      "4: 0.030000\n",
      "5: 0.240000\n",
      "6: 0.480000\n",
      "7: 0.660000\n",
      "8: 0.810000\n",
      "9: 0.940000\n",
      "10: 0.970000\n",
      "11: 0.990000\n",
      "14: 1.000000\n"
     ]
    }
   ],
   "source": [
    "ecdf = ECDF(maximal_lengths)\n",
    "ecdf_dict = {int(key): round(value, 6) for key, value in zip(ecdf.x[1:], ecdf.y[1:])}\n",
    "ecdf_for_print = '\\n'.join('%d: %.6f' % (key, ecdf_dict[key]) for key in ecdf_dict)\n",
    "print(ecdf_for_print)"
   ]
  },
  {
   "cell_type": "markdown",
   "metadata": {},
   "source": [
    "<a id='ecdf_plot'></a><br/>\n",
    "### Its plot\n",
    "and build plot of it\n",
    "<br/>[go up ↑](#top)"
   ]
  },
  {
   "cell_type": "code",
   "execution_count": 15,
   "metadata": {},
   "outputs": [
    {
     "data": {
      "image/png": "[encoded data removed]",
      "text/plain": [
       "<Figure size 432x288 with 1 Axes>"
      ]
     },
     "metadata": {
      "needs_background": "light"
     },
     "output_type": "display_data"
    }
   ],
   "source": [
    "plt.plot(ecdf.x, ecdf.y, '-g', label='ecdf')\n",
    "plt.legend(loc='lower right')\n",
    "plt.grid()"
   ]
  },
  {
   "cell_type": "markdown",
   "metadata": {},
   "source": [
    "<a id='pmf_100'></a><br/>\n",
    "### $pmf$ and its plot\n",
    "Then $pmf$ ...\n",
    "<br/>[go up ↑](#top)"
   ]
  },
  {
   "cell_type": "code",
   "execution_count": 16,
   "metadata": {},
   "outputs": [
    {
     "name": "stdout",
     "output_type": "stream",
     "text": [
      "4: 0.030000\n",
      "5: 0.210000\n",
      "6: 0.240000\n",
      "7: 0.180000\n",
      "8: 0.150000\n",
      "9: 0.130000\n",
      "10: 0.030000\n",
      "11: 0.020000\n",
      "14: 0.010000\n"
     ]
    }
   ],
   "source": [
    "pmf = calculate_pmf(maximal_lengths)\n",
    "print('\\n'.join(['%d: %.6f' % (p[0], p[1]) for p in pmf]))"
   ]
  },
  {
   "cell_type": "markdown",
   "metadata": {},
   "source": [
    "with plot\n",
    "<br/>[go up ↑](#top)"
   ]
  },
  {
   "cell_type": "code",
   "execution_count": 17,
   "metadata": {},
   "outputs": [
    {
     "data": {
      "image/png": "[encoded data removed]",
      "text/plain": [
       "<Figure size 432x288 with 1 Axes>"
      ]
     },
     "metadata": {
      "needs_background": "light"
     },
     "output_type": "display_data"
    }
   ],
   "source": [
    "plt.plot([d[0] for d in pmf], [d[1] for d in pmf], label='pmf')\n",
    "plt.legend(loc='right')\n",
    "plt.grid()"
   ]
  },
  {
   "cell_type": "markdown",
   "metadata": {},
   "source": [
    "<a id='cdf_100'></a><br/>\n",
    "### $cdf$ and its plot\n",
    "and $cdf$ ...\n",
    "<br/>[go up ↑](#top)"
   ]
  },
  {
   "cell_type": "code",
   "execution_count": 18,
   "metadata": {},
   "outputs": [
    {
     "name": "stdout",
     "output_type": "stream",
     "text": [
      "4: 0.030000\n",
      "5: 0.240000\n",
      "6: 0.480000\n",
      "7: 0.660000\n",
      "8: 0.810000\n",
      "9: 0.940000\n",
      "10: 0.970000\n",
      "11: 0.990000\n",
      "14: 1.000000\n"
     ]
    }
   ],
   "source": [
    "cdf = calculate_cdf(pmf)\n",
    "print('\\n'.join(['%d: %.6f' % (c[0], c[1]) for c in cdf]))"
   ]
  },
  {
   "cell_type": "markdown",
   "metadata": {},
   "source": [
    "with plot too\n",
    "<br/>[go up ↑](#top)"
   ]
  },
  {
   "cell_type": "code",
   "execution_count": 19,
   "metadata": {},
   "outputs": [
    {
     "data": {
      "image/png": "[encoded data removed]",
      "text/plain": [
       "<Figure size 432x288 with 1 Axes>"
      ]
     },
     "metadata": {
      "needs_background": "light"
     },
     "output_type": "display_data"
    }
   ],
   "source": [
    "plt.plot([d[0] for d in cdf], [d[1] for d in cdf], '-y', label='cdf')\n",
    "plt.legend(loc='right')\n",
    "plt.grid()"
   ]
  },
  {
   "cell_type": "markdown",
   "metadata": {},
   "source": [
    "<a id='additional'></a><br/>\n",
    "Now, you can just go to the __*[final (click here)](#final)*__ experiment and conclusions,<br/>\n",
    "but if you want you can observe some in-between experiments (for different $n$ and $N$)<br/>\n",
    "So, let's repeat simulation 1000 times:\n",
    "<br/>[go up ↑](#top)"
   ]
  },
  {
   "cell_type": "code",
   "execution_count": 20,
   "metadata": {},
   "outputs": [],
   "source": [
    "N = 1000"
   ]
  },
  {
   "cell_type": "code",
   "execution_count": 21,
   "metadata": {
    "scrolled": false
   },
   "outputs": [
    {
     "name": "stdout",
     "output_type": "stream",
     "text": [
      "maximal lengths\n",
      " [9, 7, 6, 7, 6, 4, 6, 6, 9, 8, 6, 6, 8, 7, 6, 11, 6, 7, 9, 5] ...\n"
     ]
    },
    {
     "data": {
      "image/png": "[encoded data removed]",
      "text/plain": [
       "<Figure size 432x288 with 1 Axes>"
      ]
     },
     "metadata": {
      "needs_background": "light"
     },
     "output_type": "display_data"
    },
    {
     "data": {
      "image/png": "[encoded data removed]",
      "text/plain": [
       "<Figure size 432x288 with 1 Axes>"
      ]
     },
     "metadata": {
      "needs_background": "light"
     },
     "output_type": "display_data"
    }
   ],
   "source": [
    "maximal_lengths = [max(simulation(n)) for _ in range(N)]\n",
    "print('maximal lengths\\n', maximal_lengths[:20], '...')\n",
    "\n",
    "ecdf = ECDF(maximal_lengths)\n",
    "# ecdf_dict = {int(key): round(value, 6) for key, value in zip(ecdf.x[1:], ecdf.y[1:])}\n",
    "# ecdf_for_print = '\\n'.join('%d: %.6f' % (key, ecdf_dict[key]) for key in ecdf_dict)\n",
    "# print(ecdf_for_print)\n",
    "\n",
    "plt.figure(0)\n",
    "plt.plot(ecdf.x, ecdf.y, '-r', label='ecdf')\n",
    "\n",
    "pmf = calculate_pmf(maximal_lengths)\n",
    "# print(\"pmf:\")\n",
    "# print('\\n'.join(['%d: %.6f' % (p[0], p[1]) for p in pmf]))\n",
    "\n",
    "cdf = calculate_cdf(pmf)\n",
    "# print(\"cdf:\")\n",
    "# print('\\n'.join(['%d: %.6f' % (c[0], c[1]) for c in cdf]))\n",
    "\n",
    "plt.plot([d[0] for d in cdf], [d[1] for d in cdf], '-y', label='cdf')\n",
    "plt.legend(loc='center right')\n",
    "p = plt.xticks(range(min(maximal_lengths), max(maximal_lengths), 2))\n",
    "plt.grid()\n",
    "\n",
    "plt.figure(1)\n",
    "plt.plot([d[0] for d in pmf], [d[1] for d in pmf], label='pmf')\n",
    "plt.legend(loc='center right')\n",
    "p = plt.xticks(range(min(maximal_lengths), max(maximal_lengths), 2))\n",
    "plt.grid()"
   ]
  },
  {
   "cell_type": "markdown",
   "metadata": {},
   "source": [
    "And $1,000$ times for length of sequence equals to $200$:\n",
    "<br/>[go up ↑](#top)"
   ]
  },
  {
   "cell_type": "code",
   "execution_count": 22,
   "metadata": {},
   "outputs": [
    {
     "name": "stdout",
     "output_type": "stream",
     "text": [
      "maximal lengths\n",
      " [10, 9, 7, 7, 7, 6, 12, 6, 8, 8, 7, 7, 8, 8, 12, 9, 8, 11, 8, 9] ...\n"
     ]
    },
    {
     "data": {
      "image/png": "[encoded data removed]",
      "text/plain": [
       "<Figure size 432x288 with 1 Axes>"
      ]
     },
     "metadata": {
      "needs_background": "light"
     },
     "output_type": "display_data"
    },
    {
     "data": {
      "image/png": "[encoded data removed]",
      "text/plain": [
       "<Figure size 432x288 with 1 Axes>"
      ]
     },
     "metadata": {
      "needs_background": "light"
     },
     "output_type": "display_data"
    }
   ],
   "source": [
    "n = 200\n",
    "N = 10_000\n",
    "maximal_lengths = [max(simulation(n)) for _ in range(N)]\n",
    "print('maximal lengths\\n', maximal_lengths[:20], '...')\n",
    "\n",
    "ecdf = ECDF(maximal_lengths)\n",
    "# ecdf_dict = {int(key): round(value, 6) for key, value in zip(ecdf.x[1:], ecdf.y[1:])}\n",
    "# ecdf_for_print = '\\n'.join('%d: %.6f' % (key, ecdf_dict[key]) for key in ecdf_dict)\n",
    "# print(ecdf_for_print)\n",
    "\n",
    "plt.figure(0)\n",
    "plt.plot(ecdf.x, ecdf.y, '-r', label='ecdf')\n",
    "p = plt.xticks(range(min(maximal_lengths), max(maximal_lengths), 2))\n",
    "\n",
    "pmf = calculate_pmf(maximal_lengths)\n",
    "# print(\"pmf:\")\n",
    "# print('\\n'.join(['%d: %.6f' % (p[0], p[1]) for p in pmf]))\n",
    "\n",
    "cdf = calculate_cdf(pmf)\n",
    "# print(\"cdf:\")\n",
    "# print('\\n'.join(['%d: %.6f' % (c[0], c[1]) for c in cdf]))\n",
    "\n",
    "plt.plot([d[0] for d in cdf], [d[1] for d in cdf], '-y', label='cdf')\n",
    "plt.legend(loc='right')\n",
    "plt.grid()\n",
    "\n",
    "plt.figure(1)\n",
    "plt.plot([d[0] for d in pmf], [d[1] for d in pmf], label='pmf')\n",
    "plt.legend(loc='center right')\n",
    "p = plt.xticks(range(min(maximal_lengths), max(maximal_lengths), 2))\n",
    "plt.grid()"
   ]
  },
  {
   "cell_type": "markdown",
   "metadata": {},
   "source": [
    "<a id='final'></a><br/>\n",
    "## Final experiments \n",
    "### For big $n$\n",
    "And __*finally*__, let's observe results of $10,000$ generations of sequence of length $100$\n",
    "<br/>[go up ↑](#top)"
   ]
  },
  {
   "cell_type": "code",
   "execution_count": 23,
   "metadata": {},
   "outputs": [
    {
     "name": "stdout",
     "output_type": "stream",
     "text": [
      "maximal lengths\n",
      " [5, 8, 8, 6, 10, 7, 7, 8, 7, 5, 7, 10, 7, 9, 5, 5, 9, 7, 8, 8] ...\n",
      "ecdf:\n",
      "3: 0.000300\n",
      "4: 0.027000\n",
      "5: 0.197900\n",
      "6: 0.456300\n",
      "7: 0.682700\n",
      "8: 0.832800\n",
      "9: 0.914100\n",
      "10: 0.956900\n",
      "11: 0.978900\n",
      "12: 0.988900\n",
      "13: 0.994500\n",
      "14: 0.997200\n",
      "15: 0.998100\n",
      "16: 0.998800\n",
      "17: 0.999300\n",
      "18: 0.999600\n",
      "19: 1.000000\n",
      "pmf:\n",
      "3: 0.000300\n",
      "4: 0.026700\n",
      "5: 0.170900\n",
      "6: 0.258400\n",
      "7: 0.226400\n",
      "8: 0.150100\n",
      "9: 0.081300\n",
      "10: 0.042800\n",
      "11: 0.022000\n",
      "12: 0.010000\n",
      "13: 0.005600\n",
      "14: 0.002700\n",
      "15: 0.000900\n",
      "16: 0.000700\n",
      "17: 0.000500\n",
      "18: 0.000300\n",
      "19: 0.000400\n",
      "cdf:\n",
      "3: 0.000300\n",
      "4: 0.027000\n",
      "5: 0.197900\n",
      "6: 0.456300\n",
      "7: 0.682700\n",
      "8: 0.832800\n",
      "9: 0.914100\n",
      "10: 0.956900\n",
      "11: 0.978900\n",
      "12: 0.988900\n",
      "13: 0.994500\n",
      "14: 0.997200\n",
      "15: 0.998100\n",
      "16: 0.998800\n",
      "17: 0.999300\n",
      "18: 0.999600\n",
      "19: 1.000000\n"
     ]
    },
    {
     "data": {
      "image/png": "[encoded data removed]",
      "text/plain": [
       "<Figure size 432x288 with 1 Axes>"
      ]
     },
     "metadata": {
      "needs_background": "light"
     },
     "output_type": "display_data"
    },
    {
     "data": {
      "image/png": "[encoded data removed]",
      "text/plain": [
       "<Figure size 432x288 with 1 Axes>"
      ]
     },
     "metadata": {
      "needs_background": "light"
     },
     "output_type": "display_data"
    }
   ],
   "source": [
    "n = 100\n",
    "N = 10_000\n",
    "maximal_lengths = [max(simulation(n)) for _ in range(N)]\n",
    "print('maximal lengths\\n', maximal_lengths[:20], '...')\n",
    "\n",
    "ecdf = ECDF(maximal_lengths)\n",
    "ecdf_dict = {int(key): round(value, 6) for key, value in zip(ecdf.x[1:], ecdf.y[1:])}\n",
    "ecdf_for_print = '\\n'.join('%d: %f' % (key, ecdf_dict[key]) for key in ecdf_dict)\n",
    "print(\"ecdf:\")\n",
    "print(ecdf_for_print)\n",
    "\n",
    "#ecdf plot\n",
    "plt.figure(0)\n",
    "plt.plot(ecdf.x, ecdf.y, '-r', label='ecdf')\n",
    "\n",
    "pmf = calculate_pmf(maximal_lengths)\n",
    "print(\"pmf:\")\n",
    "print('\\n'.join(['%d: %.6f' % (p[0], p[1]) for p in pmf]))\n",
    "\n",
    "cdf = calculate_cdf(pmf)\n",
    "print(\"cdf:\")\n",
    "print('\\n'.join(['%d: %f' % (c[0], c[1]) for c in cdf]))\n",
    "\n",
    "#cdf plot\n",
    "plt.plot([d[0] for d in cdf], [d[1] for d in cdf], '-y', label='cdf')\n",
    "plt.legend(loc='center right')\n",
    "p = plt.xticks(range(min(maximal_lengths), max(maximal_lengths), 2))\n",
    "plt.grid()\n",
    "\n",
    "# pmf plot\n",
    "plt.figure(1)\n",
    "plt.plot([d[0] for d in pmf], [d[1] for d in pmf], label='pmf')\n",
    "p = plt.xticks(range(min(maximal_lengths), max(maximal_lengths), 2))\n",
    "plt.legend(loc='center right')\n",
    "plt.grid()"
   ]
  },
  {
   "cell_type": "markdown",
   "metadata": {},
   "source": [
    "<a id='result'></a><br/>\n",
    "## Results\n",
    "We can see, that the most frequent values for sequence of $100$ flips are $5, 6, 7$, and here are their probabilities<br/>\n",
    ">5: 0.166300<br/>\n",
    ">6: 0.264000<br/>\n",
    ">7: 0.226800<br/>\n",
    "\n",
    "Let's compare theoretically counted values of $M_{100} \\le k,  k = \\{5, 6, 7\\}$ with real ones.<br/>\n",
    "From [matrix above](#matrix) we have next values:\n",
    ">5: 0.19318<br/>\n",
    ">6: 0.45766<br/>\n",
    ">7: 0.68523<br/>\n",
    "\n",
    "And in $100$-times simulation we have got:\n",
    ">5: 0.220000<br/>\n",
    ">6: 0.490000<br/>\n",
    ">7: 0.720000<br/>\n",
    "\n",
    "For $N=10,000$ results are:\n",
    ">5: 0.195400<br/>\n",
    ">6: 0.459400<br/>\n",
    ">7: 0.686200<br/>\n",
    "\n",
    "We can see that values recived in experiments are very close to theoretical ones even for $100$ runs of experiment, and when we had simulated sequence for $10,000$ times, results became better, what was predictable.\n",
    "<br/>[go up ↑](#top)"
   ]
  },
  {
   "cell_type": "markdown",
   "metadata": {},
   "source": [
    "<a id='small_k'></a><br/>\n",
    "## For small $n$\n",
    "For diversity, let's observe case for small $k$ (maximal length of run) such as $1 and 2$. Let's rebuild part of [table above](#matrix) with theoretecally counted values of $M_n \\le k$  for $1 \\le n \\le 20, 1 \\le k \\le 2$"
   ]
  },
  {
   "cell_type": "code",
   "execution_count": 24,
   "metadata": {},
   "outputs": [
    {
     "name": "stdout",
     "output_type": "stream",
     "text": [
      "  n\\k         1         2         3         4         5         6         7         8         9        10        11        12\n",
      "\n",
      "    0         2         2\n",
      "    1         1         1\n",
      "    2   0.50000         1\n",
      "    3   0.25000   0.75000\n",
      "    4   0.12500   0.62500\n",
      "    5   0.06250   0.50000\n",
      "    6   0.03125   0.40625\n",
      "    7   0.01562   0.32812\n",
      "    8   0.00781   0.26562\n",
      "    9   0.00391   0.21484\n",
      "   10   0.00195   0.17383\n",
      "   11   0.00098   0.14062\n",
      "   12   0.00049   0.11377\n",
      "   13   0.00024   0.09204\n",
      "   14   0.00012   0.07446\n",
      "   15   0.00006   0.06024\n",
      "   16   0.00003   0.04874\n",
      "   17   0.00002   0.03943\n",
      "   18   0.00001   0.03190\n",
      "   19   0.00000   0.02581\n",
      "   20   0.00000   0.02088\n",
      "\n"
     ]
    }
   ],
   "source": [
    "n = 20\n",
    "result = probs(n, 2)\n",
    "print(format_matrix(result, n))"
   ]
  },
  {
   "cell_type": "code",
   "execution_count": 25,
   "metadata": {},
   "outputs": [],
   "source": [
    "N = 1000"
   ]
  },
  {
   "cell_type": "markdown",
   "metadata": {},
   "source": [
    "### Results\n",
    "And compare that values with simulated ones. So, theoretically, we'll have<br/>\n",
    "\n",
    "|     |    $\\le1$  |    $\\le2$<br/> |\n",
    "| --- | ---------- | -------------- |\n",
    "| 10  |  0.00195   |  0.17383<br/>  |\n",
    "| 20  |  0.00000   |  0.02088<br/>  |\n",
    "\n",
    "Via simulations ($1000$ times) we have got (see code below):\n",
    "\n",
    "|     |    $\\le1$  |    $\\le2$  |\n",
    "| --- | ---------  | ---------  |\n",
    "| 10  |  0.002100  |  0.170300  |\n",
    "| 20  |  0.000000  |  0.019500  |\n",
    "\n",
    "\n",
    "Again, our formula caclculating is confirmed by real simulations. Interesting thing is observed, although - starting from quite small number of flips in one sequence ($19$), we have probability to get run of length $1$ converges to $0$ in both cases.\n",
    "<br/>[go up ↑](#top)"
   ]
  },
  {
   "cell_type": "code",
   "execution_count": 26,
   "metadata": {},
   "outputs": [
    {
     "name": "stdout",
     "output_type": "stream",
     "text": [
      "1: 0.001000\n",
      "2: 0.168000\n",
      "3: 0.536000\n",
      "4: 0.792000\n",
      "5: 0.909000\n",
      "6: 0.957000\n",
      "7: 0.982000\n",
      "8: 0.992000\n",
      "9: 0.997000\n",
      "10: 1.000000\n"
     ]
    }
   ],
   "source": [
    "n = 10\n",
    "maximal_lengths = [max(simulation(n)) for _ in range(N)]\n",
    "pmf = calculate_pmf(maximal_lengths)\n",
    "cdf = calculate_cdf(pmf)\n",
    "print('\\n'.join(['%d: %f' % (c[0], c[1]) for c in cdf]))"
   ]
  },
  {
   "cell_type": "code",
   "execution_count": 27,
   "metadata": {},
   "outputs": [
    {
     "name": "stdout",
     "output_type": "stream",
     "text": [
      "2: 0.020000\n",
      "3: 0.232000\n",
      "4: 0.547000\n",
      "5: 0.770000\n",
      "6: 0.876000\n",
      "7: 0.941000\n",
      "8: 0.967000\n",
      "9: 0.982000\n",
      "10: 0.991000\n",
      "11: 0.996000\n",
      "12: 0.998000\n",
      "13: 0.999000\n",
      "15: 1.000000\n"
     ]
    }
   ],
   "source": [
    "n = 20\n",
    "maximal_lengths = [max(simulation(n)) for _ in range(N)]\n",
    "pmf = calculate_pmf(maximal_lengths)\n",
    "cdf = calculate_cdf(pmf)\n",
    "print('\\n'.join(['%d: %f' % (c[0], c[1]) for c in cdf]))"
   ]
  },
  {
   "cell_type": "markdown",
   "metadata": {},
   "source": [
    "And, as we started from sequence of $50$ flips, let's observe case with it ($10,000$ simulations)"
   ]
  },
  {
   "cell_type": "code",
   "execution_count": 29,
   "metadata": {},
   "outputs": [
    {
     "name": "stdout",
     "output_type": "stream",
     "text": [
      "pmf:\n",
      "3: 0.017000\n",
      "4: 0.147000\n",
      "5: 0.293000\n",
      "6: 0.234000\n",
      "7: 0.145000\n",
      "8: 0.083000\n",
      "9: 0.041000\n",
      "10: 0.020000\n",
      "11: 0.015000\n",
      "12: 0.003000\n",
      "14: 0.002000\n",
      "cdf:\n",
      "3: 0.017000\n",
      "4: 0.164000\n",
      "5: 0.457000\n",
      "6: 0.691000\n",
      "7: 0.836000\n",
      "8: 0.919000\n",
      "9: 0.960000\n",
      "10: 0.980000\n",
      "11: 0.995000\n",
      "12: 0.998000\n",
      "14: 1.000000\n"
     ]
    }
   ],
   "source": [
    "n = 50\n",
    "maximal_lengths = [max(simulation(n)) for _ in range(N)]\n",
    "pmf = calculate_pmf(maximal_lengths)\n",
    "print('pmf:')\n",
    "print('\\n'.join(['%d: %.6f' % (p[0], p[1]) for p in pmf]))\n",
    "cdf = calculate_cdf(pmf)\n",
    "print('cdf:')\n",
    "print('\\n'.join(['%d: %f' % (c[0], c[1]) for c in cdf]))"
   ]
  }
 ],
 "metadata": {
  "kernelspec": {
   "display_name": "Python 3",
   "language": "python",
   "name": "python3"
  },
  "language_info": {
   "codemirror_mode": {
    "name": "ipython",
    "version": 3
   },
   "file_extension": ".py",
   "mimetype": "text/x-python",
   "name": "python",
   "nbconvert_exporter": "python",
   "pygments_lexer": "ipython3",
   "version": "3.7.0"
  }
 },
 "nbformat": 4,
 "nbformat_minor": 2
}
